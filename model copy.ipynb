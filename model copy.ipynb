{
  "cells": [
    {
      "cell_type": "code",
      "execution_count": null,
      "metadata": {
        "id": "970n_r9miYtT"
      },
      "outputs": [],
      "source": [
        "import numpy as np\n",
        "import os\n",
        "\n",
        "# os.environ['CUDA_VISIBLE_DEVICES'] = '1'\n",
        "# os.environ['TF_FORCE_GPU_ALLOW_GROWTH'] = 'true'"
      ]
    },
    {
      "cell_type": "code",
      "execution_count": null,
      "metadata": {
        "id": "oLb7mvbfGeTU"
      },
      "outputs": [],
      "source": [
        "X=np.load('/content/nseq.npy')\n",
        "y=np.load('/content/nlab.npy')"
      ]
    },
    {
      "cell_type": "code",
      "execution_count": null,
      "metadata": {
        "colab": {
          "base_uri": "https://localhost:8080/"
        },
        "id": "-fcdHvPDGfRN",
        "outputId": "87916ddf-b526-458d-846f-ae32a9903764"
      },
      "outputs": [
        {
          "data": {
            "text/plain": [
              "((110, 20, 75, 4), (110,))"
            ]
          },
          "execution_count": 117,
          "metadata": {},
          "output_type": "execute_result"
        }
      ],
      "source": [
        "X.shape,y.shape"
      ]
    },
    {
      "cell_type": "code",
      "execution_count": null,
      "metadata": {
        "colab": {
          "base_uri": "https://localhost:8080/"
        },
        "id": "p43rI1FkSs0T",
        "outputId": "5b7d8898-ed62-4991-8393-49bcc8106975"
      },
      "outputs": [
        {
          "data": {
            "text/plain": [
              "array(['again', 'again', 'again', 'again', 'again', 'again', 'again',\n",
              "       'again', 'again', 'again', 'boy', 'boy', 'boy', 'boy', 'boy',\n",
              "       'boy', 'boy', 'boy', 'boy', 'boy', 'deaf', 'deaf', 'deaf', 'deaf',\n",
              "       'deaf', 'deaf', 'deaf', 'deaf', 'deaf', 'deaf', 'girl', 'girl',\n",
              "       'girl', 'girl', 'girl', 'girl', 'girl', 'girl', 'girl', 'girl',\n",
              "       'hard of hearing', 'hard of hearing', 'hard of hearing',\n",
              "       'hard of hearing', 'hard of hearing', 'hard of hearing',\n",
              "       'hard of hearing', 'hard of hearing', 'hard of hearing',\n",
              "       'hard of hearing', 'hearing', 'hearing', 'hearing', 'hearing',\n",
              "       'hearing', 'hearing', 'hearing', 'hearing', 'hearing', 'hearing',\n",
              "       'help', 'help', 'help', 'help', 'help', 'help', 'help', 'help',\n",
              "       'help', 'help', 'how', 'how', 'how', 'how', 'how', 'how', 'how',\n",
              "       'how', 'how', 'how', 'me', 'me', 'me', 'me', 'me', 'me', 'me',\n",
              "       'me', 'me', 'me', 'meet', 'meet', 'meet', 'meet', 'meet', 'meet',\n",
              "       'meet', 'meet', 'meet', 'meet', 'know', 'know', 'know', 'know',\n",
              "       'know', 'know', 'know', 'know', 'know', 'know'], dtype='<U15')"
            ]
          },
          "execution_count": 118,
          "metadata": {},
          "output_type": "execute_result"
        }
      ],
      "source": [
        "y"
      ]
    },
    {
      "cell_type": "code",
      "execution_count": null,
      "metadata": {
        "id": "rwFlcZHEM4Z3"
      },
      "outputs": [],
      "source": [
        "y=y.reshape(-1)"
      ]
    },
    {
      "cell_type": "code",
      "execution_count": null,
      "metadata": {
        "colab": {
          "base_uri": "https://localhost:8080/"
        },
        "id": "vmQMGjMDopYl",
        "outputId": "6374b264-dad9-42d3-b91d-2ffd15d9868c"
      },
      "outputs": [
        {
          "data": {
            "text/plain": [
              "dtype('<U15')"
            ]
          },
          "execution_count": 120,
          "metadata": {},
          "output_type": "execute_result"
        }
      ],
      "source": [
        "y.dtype"
      ]
    },
    {
      "cell_type": "code",
      "execution_count": null,
      "metadata": {
        "id": "0aKPsbQmLz_6"
      },
      "outputs": [],
      "source": [
        "from sklearn.preprocessing import LabelEncoder\n",
        "le = LabelEncoder()\n"
      ]
    },
    {
      "cell_type": "code",
      "execution_count": null,
      "metadata": {
        "id": "ohB7gCurGfWX"
      },
      "outputs": [],
      "source": [
        "y=le.fit_transform(y)"
      ]
    },
    {
      "cell_type": "code",
      "execution_count": null,
      "metadata": {
        "colab": {
          "base_uri": "https://localhost:8080/"
        },
        "id": "4J1QU1I2SnvU",
        "outputId": "ce2c795b-2195-4320-a505-cdc8c206e5c3"
      },
      "outputs": [
        {
          "data": {
            "text/plain": [
              "array([ 0,  0,  0,  0,  0,  0,  0,  0,  0,  0,  1,  1,  1,  1,  1,  1,  1,\n",
              "        1,  1,  1,  2,  2,  2,  2,  2,  2,  2,  2,  2,  2,  3,  3,  3,  3,\n",
              "        3,  3,  3,  3,  3,  3,  4,  4,  4,  4,  4,  4,  4,  4,  4,  4,  5,\n",
              "        5,  5,  5,  5,  5,  5,  5,  5,  5,  6,  6,  6,  6,  6,  6,  6,  6,\n",
              "        6,  6,  7,  7,  7,  7,  7,  7,  7,  7,  7,  7,  9,  9,  9,  9,  9,\n",
              "        9,  9,  9,  9,  9, 10, 10, 10, 10, 10, 10, 10, 10, 10, 10,  8,  8,\n",
              "        8,  8,  8,  8,  8,  8,  8,  8])"
            ]
          },
          "execution_count": 123,
          "metadata": {},
          "output_type": "execute_result"
        }
      ],
      "source": [
        "y"
      ]
    },
    {
      "cell_type": "code",
      "execution_count": null,
      "metadata": {
        "id": "W8DG3cvQx3Ti"
      },
      "outputs": [],
      "source": []
    },
    {
      "cell_type": "code",
      "execution_count": null,
      "metadata": {
        "id": "2PbbdszOGfY1"
      },
      "outputs": [],
      "source": [
        "from sklearn.model_selection import train_test_split\n",
        "X_train,X_test,y_train,y_test=train_test_split(X,y,test_size=0.2)"
      ]
    },
    {
      "cell_type": "code",
      "execution_count": null,
      "metadata": {
        "colab": {
          "base_uri": "https://localhost:8080/"
        },
        "id": "APAsLwBTGfbS",
        "outputId": "2f98954f-1873-4390-ddbb-4004c234d977"
      },
      "outputs": [
        {
          "data": {
            "text/plain": [
              "((88, 20, 75, 4), (88,))"
            ]
          },
          "execution_count": 125,
          "metadata": {},
          "output_type": "execute_result"
        }
      ],
      "source": [
        "X_train.shape,y_train.shape"
      ]
    },
    {
      "cell_type": "code",
      "execution_count": null,
      "metadata": {
        "colab": {
          "base_uri": "https://localhost:8080/"
        },
        "id": "7ghHwnLiQn4Y",
        "outputId": "9b206aa1-bb23-464a-8bd2-f82717376dc8"
      },
      "outputs": [
        {
          "data": {
            "text/plain": [
              "(20, 75)"
            ]
          },
          "execution_count": 126,
          "metadata": {},
          "output_type": "execute_result"
        }
      ],
      "source": [
        "75*4\n",
        "X_train.shape[1:3]"
      ]
    },
    {
      "cell_type": "code",
      "execution_count": null,
      "metadata": {
        "id": "eq3hSPdWP5fV"
      },
      "outputs": [],
      "source": [
        "X_train=X_train.reshape(88,20,300)"
      ]
    },
    {
      "cell_type": "code",
      "execution_count": null,
      "metadata": {
        "colab": {
          "base_uri": "https://localhost:8080/"
        },
        "id": "WGSUu_Q3Gff-",
        "outputId": "c3a57c7e-e3af-4eec-be82-09e1488affd4"
      },
      "outputs": [
        {
          "name": "stderr",
          "output_type": "stream",
          "text": [
            "WARNING:tensorflow:Layer lstm_14 will not use cuDNN kernels since it doesn't meet the criteria. It will use a generic GPU kernel as fallback when running on GPU.\n"
          ]
        },
        {
          "name": "stdout",
          "output_type": "stream",
          "text": [
            "Model: \"sequential_10\"\n",
            "_________________________________________________________________\n",
            " Layer (type)                Output Shape              Param #   \n",
            "=================================================================\n",
            " lstm_14 (LSTM)              (None, 64)                93440     \n",
            "                                                                 \n",
            " dense_32 (Dense)            (None, 64)                4160      \n",
            "                                                                 \n",
            " dropout_12 (Dropout)        (None, 64)                0         \n",
            "                                                                 \n",
            " batch_normalization_10 (Ba  (None, 64)                256       \n",
            " tchNormalization)                                               \n",
            "                                                                 \n",
            " dense_33 (Dense)            (None, 32)                2080      \n",
            "                                                                 \n",
            " dense_34 (Dense)            (None, 11)                363       \n",
            "                                                                 \n",
            "=================================================================\n",
            "Total params: 100299 (391.79 KB)\n",
            "Trainable params: 100171 (391.29 KB)\n",
            "Non-trainable params: 128 (512.00 Byte)\n",
            "_________________________________________________________________\n"
          ]
        }
      ],
      "source": [
        "from tensorflow.keras.models import Sequential\n",
        "from tensorflow.keras.layers import LSTM, Dense\n",
        "from tensorflow.keras.layers import Dropout\n",
        "from tensorflow.keras.layers import BatchNormalization\n",
        "\n",
        "model = Sequential([\n",
        "    LSTM(64, activation='relu', input_shape=X_train.shape[1:3]),\n",
        "    Dense(64, activation='relu'),\n",
        "    Dropout(0.1),\n",
        "    BatchNormalization(),\n",
        "    Dense(32, activation='relu'),\n",
        "    Dropout(0.1),\n",
        "    BatchNormalization(),\n",
        "    Dense(11, activation='softmax')\n",
        "])\n",
        "\n",
        "model.compile(optimizer='adam', loss='sparse_categorical_crossentropy', metrics=['acc'])\n",
        "model.summary()"
      ]
    },
    {
      "cell_type": "code",
      "execution_count": null,
      "metadata": {
        "colab": {
          "base_uri": "https://localhost:8080/"
        },
        "id": "Wd1J67QsGfjy",
        "outputId": "d23617da-3c2c-4fd0-f358-91e4a7e7546a"
      },
      "outputs": [
        {
          "name": "stdout",
          "output_type": "stream",
          "text": [
            "Epoch 1/300\n",
            "3/3 [==============================] - 2s 25ms/step - loss: 2.5141 - acc: 0.0909\n",
            "Epoch 2/300\n",
            "3/3 [==============================] - 0s 24ms/step - loss: 2.1758 - acc: 0.2159\n",
            "Epoch 3/300\n",
            "3/3 [==============================] - 0s 23ms/step - loss: 1.9501 - acc: 0.2841\n",
            "Epoch 4/300\n",
            "3/3 [==============================] - 0s 32ms/step - loss: 1.8903 - acc: 0.2955\n",
            "Epoch 5/300\n",
            "3/3 [==============================] - 0s 23ms/step - loss: 1.7587 - acc: 0.3636\n",
            "Epoch 6/300\n",
            "3/3 [==============================] - 0s 23ms/step - loss: 1.6964 - acc: 0.3864\n",
            "Epoch 7/300\n",
            "3/3 [==============================] - 0s 23ms/step - loss: 1.6695 - acc: 0.4659\n",
            "Epoch 8/300\n",
            "3/3 [==============================] - 0s 22ms/step - loss: 1.6857 - acc: 0.4432\n",
            "Epoch 9/300\n",
            "3/3 [==============================] - 0s 24ms/step - loss: 1.5044 - acc: 0.5341\n",
            "Epoch 10/300\n",
            "3/3 [==============================] - 0s 23ms/step - loss: 1.4728 - acc: 0.5227\n",
            "Epoch 11/300\n",
            "3/3 [==============================] - 0s 24ms/step - loss: 1.4228 - acc: 0.5568\n",
            "Epoch 12/300\n",
            "3/3 [==============================] - 0s 28ms/step - loss: 1.2976 - acc: 0.5795\n",
            "Epoch 13/300\n",
            "3/3 [==============================] - 0s 23ms/step - loss: 1.2280 - acc: 0.6250\n",
            "Epoch 14/300\n",
            "3/3 [==============================] - 0s 23ms/step - loss: 1.3049 - acc: 0.6364\n",
            "Epoch 15/300\n",
            "3/3 [==============================] - 0s 22ms/step - loss: 1.1161 - acc: 0.7273\n",
            "Epoch 16/300\n",
            "3/3 [==============================] - 0s 23ms/step - loss: 1.1652 - acc: 0.6705\n",
            "Epoch 17/300\n",
            "3/3 [==============================] - 0s 32ms/step - loss: 1.1451 - acc: 0.7500\n",
            "Epoch 18/300\n",
            "3/3 [==============================] - 0s 24ms/step - loss: 1.0886 - acc: 0.7159\n",
            "Epoch 19/300\n",
            "3/3 [==============================] - 0s 25ms/step - loss: 0.9666 - acc: 0.7727\n",
            "Epoch 20/300\n",
            "3/3 [==============================] - 0s 23ms/step - loss: 1.0168 - acc: 0.7159\n",
            "Epoch 21/300\n",
            "3/3 [==============================] - 0s 29ms/step - loss: 0.8295 - acc: 0.8068\n",
            "Epoch 22/300\n",
            "3/3 [==============================] - 0s 26ms/step - loss: 0.8266 - acc: 0.7841\n",
            "Epoch 23/300\n",
            "3/3 [==============================] - 0s 25ms/step - loss: 0.8023 - acc: 0.8295\n",
            "Epoch 24/300\n",
            "3/3 [==============================] - 0s 24ms/step - loss: 0.7109 - acc: 0.8182\n",
            "Epoch 25/300\n",
            "3/3 [==============================] - 0s 25ms/step - loss: 0.7413 - acc: 0.7841\n",
            "Epoch 26/300\n",
            "3/3 [==============================] - 0s 24ms/step - loss: 0.6884 - acc: 0.8523\n",
            "Epoch 27/300\n",
            "3/3 [==============================] - 0s 23ms/step - loss: 0.7000 - acc: 0.8182\n",
            "Epoch 28/300\n",
            "3/3 [==============================] - 0s 27ms/step - loss: 0.5434 - acc: 0.9091\n",
            "Epoch 29/300\n",
            "3/3 [==============================] - 0s 23ms/step - loss: 0.6023 - acc: 0.8636\n",
            "Epoch 30/300\n",
            "3/3 [==============================] - 0s 30ms/step - loss: 0.6193 - acc: 0.8636\n",
            "Epoch 31/300\n",
            "3/3 [==============================] - 0s 22ms/step - loss: 0.5310 - acc: 0.8977\n",
            "Epoch 32/300\n",
            "3/3 [==============================] - 0s 24ms/step - loss: 0.4964 - acc: 0.9091\n",
            "Epoch 33/300\n",
            "3/3 [==============================] - 0s 23ms/step - loss: 0.4625 - acc: 0.8636\n",
            "Epoch 34/300\n",
            "3/3 [==============================] - 0s 22ms/step - loss: 0.4888 - acc: 0.9091\n",
            "Epoch 35/300\n",
            "3/3 [==============================] - 0s 24ms/step - loss: 0.5039 - acc: 0.8864\n",
            "Epoch 36/300\n",
            "3/3 [==============================] - 0s 24ms/step - loss: 0.4323 - acc: 0.8864\n",
            "Epoch 37/300\n",
            "3/3 [==============================] - 0s 28ms/step - loss: 0.4351 - acc: 0.9091\n",
            "Epoch 38/300\n",
            "3/3 [==============================] - 0s 24ms/step - loss: 0.3608 - acc: 0.9318\n",
            "Epoch 39/300\n",
            "3/3 [==============================] - 0s 25ms/step - loss: 0.3818 - acc: 0.9091\n",
            "Epoch 40/300\n",
            "3/3 [==============================] - 0s 24ms/step - loss: 0.3661 - acc: 0.9432\n",
            "Epoch 41/300\n",
            "3/3 [==============================] - 0s 24ms/step - loss: 0.3290 - acc: 0.9545\n",
            "Epoch 42/300\n",
            "3/3 [==============================] - 0s 23ms/step - loss: 0.3354 - acc: 0.9659\n",
            "Epoch 43/300\n",
            "3/3 [==============================] - 0s 30ms/step - loss: 0.2840 - acc: 0.9545\n",
            "Epoch 44/300\n",
            "3/3 [==============================] - 0s 23ms/step - loss: 0.3252 - acc: 0.9318\n",
            "Epoch 45/300\n",
            "3/3 [==============================] - 0s 26ms/step - loss: 0.3276 - acc: 0.9205\n",
            "Epoch 46/300\n",
            "3/3 [==============================] - 0s 23ms/step - loss: 0.2483 - acc: 0.9432\n",
            "Epoch 47/300\n",
            "3/3 [==============================] - 0s 25ms/step - loss: 0.2481 - acc: 0.9773\n",
            "Epoch 48/300\n",
            "3/3 [==============================] - 0s 25ms/step - loss: 0.2613 - acc: 0.9432\n",
            "Epoch 49/300\n",
            "3/3 [==============================] - 0s 23ms/step - loss: 0.3030 - acc: 0.9318\n",
            "Epoch 50/300\n",
            "3/3 [==============================] - 0s 24ms/step - loss: 0.2606 - acc: 0.9432\n",
            "Epoch 51/300\n",
            "3/3 [==============================] - 0s 29ms/step - loss: 0.1995 - acc: 0.9659\n",
            "Epoch 52/300\n",
            "3/3 [==============================] - 0s 29ms/step - loss: 0.2091 - acc: 0.9773\n",
            "Epoch 53/300\n",
            "3/3 [==============================] - 0s 25ms/step - loss: 0.2276 - acc: 0.9659\n",
            "Epoch 54/300\n",
            "3/3 [==============================] - 0s 25ms/step - loss: 0.2434 - acc: 0.9545\n",
            "Epoch 55/300\n",
            "3/3 [==============================] - 0s 24ms/step - loss: 0.2407 - acc: 0.9432\n",
            "Epoch 56/300\n",
            "3/3 [==============================] - 0s 30ms/step - loss: 0.2273 - acc: 0.9432\n",
            "Epoch 57/300\n",
            "3/3 [==============================] - 0s 24ms/step - loss: 0.2273 - acc: 0.9659\n",
            "Epoch 58/300\n",
            "3/3 [==============================] - 0s 24ms/step - loss: 0.1736 - acc: 0.9886\n",
            "Epoch 59/300\n",
            "3/3 [==============================] - 0s 24ms/step - loss: 0.1563 - acc: 0.9886\n",
            "Epoch 60/300\n",
            "3/3 [==============================] - 0s 24ms/step - loss: 0.1621 - acc: 0.9773\n",
            "Epoch 61/300\n",
            "3/3 [==============================] - 0s 23ms/step - loss: 0.1989 - acc: 0.9659\n",
            "Epoch 62/300\n",
            "3/3 [==============================] - 0s 25ms/step - loss: 0.1990 - acc: 0.9773\n",
            "Epoch 63/300\n",
            "3/3 [==============================] - 0s 25ms/step - loss: 0.1749 - acc: 0.9659\n",
            "Epoch 64/300\n",
            "3/3 [==============================] - 0s 25ms/step - loss: 0.2120 - acc: 0.9545\n",
            "Epoch 65/300\n",
            "3/3 [==============================] - 0s 23ms/step - loss: 0.2028 - acc: 0.9773\n",
            "Epoch 66/300\n",
            "3/3 [==============================] - 0s 24ms/step - loss: 0.1484 - acc: 0.9886\n",
            "Epoch 67/300\n",
            "3/3 [==============================] - 0s 25ms/step - loss: 0.1403 - acc: 0.9773\n",
            "Epoch 68/300\n",
            "3/3 [==============================] - 0s 24ms/step - loss: 0.1655 - acc: 0.9773\n",
            "Epoch 69/300\n",
            "3/3 [==============================] - 0s 30ms/step - loss: 0.1211 - acc: 0.9773\n",
            "Epoch 70/300\n",
            "3/3 [==============================] - 0s 24ms/step - loss: 0.1367 - acc: 0.9773\n",
            "Epoch 71/300\n",
            "3/3 [==============================] - 0s 25ms/step - loss: 0.1513 - acc: 0.9659\n",
            "Epoch 72/300\n",
            "3/3 [==============================] - 0s 24ms/step - loss: 0.1077 - acc: 1.0000\n",
            "Epoch 73/300\n",
            "3/3 [==============================] - 0s 28ms/step - loss: 0.1552 - acc: 0.9659\n",
            "Epoch 74/300\n",
            "3/3 [==============================] - 0s 25ms/step - loss: 0.1060 - acc: 0.9886\n",
            "Epoch 75/300\n",
            "3/3 [==============================] - 0s 24ms/step - loss: 0.1182 - acc: 0.9773\n",
            "Epoch 76/300\n",
            "3/3 [==============================] - 0s 42ms/step - loss: 0.1328 - acc: 0.9545\n",
            "Epoch 77/300\n",
            "3/3 [==============================] - 0s 40ms/step - loss: 0.1254 - acc: 0.9659\n",
            "Epoch 78/300\n",
            "3/3 [==============================] - 0s 41ms/step - loss: 0.1223 - acc: 0.9773\n",
            "Epoch 79/300\n",
            "3/3 [==============================] - 0s 49ms/step - loss: 0.1030 - acc: 0.9659\n",
            "Epoch 80/300\n",
            "3/3 [==============================] - 0s 67ms/step - loss: 0.1840 - acc: 0.9659\n",
            "Epoch 81/300\n",
            "3/3 [==============================] - 0s 62ms/step - loss: 0.1367 - acc: 0.9545\n",
            "Epoch 82/300\n",
            "3/3 [==============================] - 0s 43ms/step - loss: 0.1053 - acc: 0.9659\n",
            "Epoch 83/300\n",
            "3/3 [==============================] - 0s 45ms/step - loss: 0.0711 - acc: 0.9886\n",
            "Epoch 84/300\n",
            "3/3 [==============================] - 0s 42ms/step - loss: 0.1054 - acc: 0.9773\n",
            "Epoch 85/300\n",
            "3/3 [==============================] - 0s 36ms/step - loss: 0.0703 - acc: 0.9886\n",
            "Epoch 86/300\n",
            "3/3 [==============================] - 0s 40ms/step - loss: 0.0665 - acc: 0.9773\n",
            "Epoch 87/300\n",
            "3/3 [==============================] - 0s 47ms/step - loss: 0.0858 - acc: 0.9773\n",
            "Epoch 88/300\n",
            "3/3 [==============================] - 0s 44ms/step - loss: 0.0924 - acc: 0.9659\n",
            "Epoch 89/300\n",
            "3/3 [==============================] - 0s 46ms/step - loss: 0.1181 - acc: 0.9659\n",
            "Epoch 90/300\n",
            "3/3 [==============================] - 0s 38ms/step - loss: 0.0636 - acc: 0.9886\n",
            "Epoch 91/300\n",
            "3/3 [==============================] - 0s 46ms/step - loss: 0.0825 - acc: 0.9773\n",
            "Epoch 92/300\n",
            "3/3 [==============================] - 0s 28ms/step - loss: 0.1083 - acc: 0.9886\n",
            "Epoch 93/300\n",
            "3/3 [==============================] - 0s 25ms/step - loss: 0.0612 - acc: 0.9886\n",
            "Epoch 94/300\n",
            "3/3 [==============================] - 0s 23ms/step - loss: 0.1182 - acc: 0.9659\n",
            "Epoch 95/300\n",
            "3/3 [==============================] - 0s 30ms/step - loss: 0.0992 - acc: 0.9886\n",
            "Epoch 96/300\n",
            "3/3 [==============================] - 0s 25ms/step - loss: 0.0758 - acc: 0.9773\n",
            "Epoch 97/300\n",
            "3/3 [==============================] - 0s 25ms/step - loss: 0.0901 - acc: 0.9773\n",
            "Epoch 98/300\n",
            "3/3 [==============================] - 0s 29ms/step - loss: 0.0933 - acc: 0.9659\n",
            "Epoch 99/300\n",
            "3/3 [==============================] - 0s 25ms/step - loss: 0.1136 - acc: 0.9773\n",
            "Epoch 100/300\n",
            "3/3 [==============================] - 0s 23ms/step - loss: 0.1863 - acc: 0.9205\n",
            "Epoch 101/300\n",
            "3/3 [==============================] - 0s 24ms/step - loss: 0.2771 - acc: 0.8977\n",
            "Epoch 102/300\n",
            "3/3 [==============================] - 0s 24ms/step - loss: 0.3291 - acc: 0.8977\n",
            "Epoch 103/300\n",
            "3/3 [==============================] - 0s 24ms/step - loss: 0.1773 - acc: 0.9773\n",
            "Epoch 104/300\n",
            "3/3 [==============================] - 0s 23ms/step - loss: 0.1291 - acc: 0.9659\n",
            "Epoch 105/300\n",
            "3/3 [==============================] - 0s 26ms/step - loss: 0.2527 - acc: 0.9091\n",
            "Epoch 106/300\n",
            "3/3 [==============================] - 0s 23ms/step - loss: 0.2327 - acc: 0.9205\n",
            "Epoch 107/300\n",
            "3/3 [==============================] - 0s 24ms/step - loss: 0.1550 - acc: 0.9432\n",
            "Epoch 108/300\n",
            "3/3 [==============================] - 0s 29ms/step - loss: 0.1247 - acc: 0.9545\n",
            "Epoch 109/300\n",
            "3/3 [==============================] - 0s 25ms/step - loss: 0.1084 - acc: 0.9545\n",
            "Epoch 110/300\n",
            "3/3 [==============================] - 0s 23ms/step - loss: 0.0860 - acc: 0.9886\n",
            "Epoch 111/300\n",
            "3/3 [==============================] - 0s 24ms/step - loss: 0.2499 - acc: 0.9205\n",
            "Epoch 112/300\n",
            "3/3 [==============================] - 0s 24ms/step - loss: 0.0916 - acc: 0.9886\n",
            "Epoch 113/300\n",
            "3/3 [==============================] - 0s 28ms/step - loss: 0.1072 - acc: 0.9886\n",
            "Epoch 114/300\n",
            "3/3 [==============================] - 0s 25ms/step - loss: 0.0647 - acc: 0.9886\n",
            "Epoch 115/300\n",
            "3/3 [==============================] - 0s 25ms/step - loss: 0.0774 - acc: 0.9886\n",
            "Epoch 116/300\n",
            "3/3 [==============================] - 0s 24ms/step - loss: 0.0649 - acc: 0.9886\n",
            "Epoch 117/300\n",
            "3/3 [==============================] - 0s 23ms/step - loss: 0.0440 - acc: 0.9886\n",
            "Epoch 118/300\n",
            "3/3 [==============================] - 0s 24ms/step - loss: 0.0462 - acc: 1.0000\n",
            "Epoch 119/300\n",
            "3/3 [==============================] - 0s 25ms/step - loss: 0.0358 - acc: 1.0000\n",
            "Epoch 120/300\n",
            "3/3 [==============================] - 0s 24ms/step - loss: 0.0308 - acc: 1.0000\n",
            "Epoch 121/300\n",
            "3/3 [==============================] - 0s 32ms/step - loss: 0.0527 - acc: 0.9886\n",
            "Epoch 122/300\n",
            "3/3 [==============================] - 0s 28ms/step - loss: 0.0335 - acc: 1.0000\n",
            "Epoch 123/300\n",
            "3/3 [==============================] - 0s 24ms/step - loss: 0.0336 - acc: 1.0000\n",
            "Epoch 124/300\n",
            "3/3 [==============================] - 0s 28ms/step - loss: 0.0407 - acc: 0.9886\n",
            "Epoch 125/300\n",
            "3/3 [==============================] - 0s 24ms/step - loss: 0.0305 - acc: 0.9886\n",
            "Epoch 126/300\n",
            "3/3 [==============================] - 0s 23ms/step - loss: 0.0293 - acc: 0.9886\n",
            "Epoch 127/300\n",
            "3/3 [==============================] - 0s 23ms/step - loss: 0.0215 - acc: 1.0000\n",
            "Epoch 128/300\n",
            "3/3 [==============================] - 0s 26ms/step - loss: 0.0192 - acc: 1.0000\n",
            "Epoch 129/300\n",
            "3/3 [==============================] - 0s 29ms/step - loss: 0.0192 - acc: 1.0000\n",
            "Epoch 130/300\n",
            "3/3 [==============================] - 0s 24ms/step - loss: 0.0136 - acc: 1.0000\n",
            "Epoch 131/300\n",
            "3/3 [==============================] - 0s 24ms/step - loss: 0.0331 - acc: 1.0000\n",
            "Epoch 132/300\n",
            "3/3 [==============================] - 0s 24ms/step - loss: 0.0148 - acc: 1.0000\n",
            "Epoch 133/300\n",
            "3/3 [==============================] - 0s 24ms/step - loss: 0.0182 - acc: 1.0000\n",
            "Epoch 134/300\n",
            "3/3 [==============================] - 0s 25ms/step - loss: 0.0151 - acc: 1.0000\n",
            "Epoch 135/300\n",
            "3/3 [==============================] - 0s 23ms/step - loss: 0.0203 - acc: 1.0000\n",
            "Epoch 136/300\n",
            "3/3 [==============================] - 0s 24ms/step - loss: 0.0147 - acc: 1.0000\n",
            "Epoch 137/300\n",
            "3/3 [==============================] - 0s 25ms/step - loss: 0.0176 - acc: 1.0000\n",
            "Epoch 138/300\n",
            "3/3 [==============================] - 0s 25ms/step - loss: 0.0205 - acc: 1.0000\n",
            "Epoch 139/300\n",
            "3/3 [==============================] - 0s 29ms/step - loss: 0.0184 - acc: 1.0000\n",
            "Epoch 140/300\n",
            "3/3 [==============================] - 0s 24ms/step - loss: 0.0113 - acc: 1.0000\n",
            "Epoch 141/300\n",
            "3/3 [==============================] - 0s 24ms/step - loss: 0.0258 - acc: 0.9886\n",
            "Epoch 142/300\n",
            "3/3 [==============================] - 0s 25ms/step - loss: 0.0118 - acc: 1.0000\n",
            "Epoch 143/300\n",
            "3/3 [==============================] - 0s 30ms/step - loss: 0.0180 - acc: 1.0000\n",
            "Epoch 144/300\n",
            "3/3 [==============================] - 0s 23ms/step - loss: 0.0170 - acc: 1.0000\n",
            "Epoch 145/300\n",
            "3/3 [==============================] - 0s 28ms/step - loss: 0.0123 - acc: 1.0000\n",
            "Epoch 146/300\n",
            "3/3 [==============================] - 0s 31ms/step - loss: 0.0161 - acc: 1.0000\n",
            "Epoch 147/300\n",
            "3/3 [==============================] - 0s 29ms/step - loss: 0.0133 - acc: 1.0000\n",
            "Epoch 148/300\n",
            "3/3 [==============================] - 0s 29ms/step - loss: 0.0221 - acc: 0.9886\n",
            "Epoch 149/300\n",
            "3/3 [==============================] - 0s 23ms/step - loss: 0.0142 - acc: 1.0000\n",
            "Epoch 150/300\n",
            "3/3 [==============================] - 0s 29ms/step - loss: 0.0144 - acc: 1.0000\n",
            "Epoch 151/300\n",
            "3/3 [==============================] - 0s 24ms/step - loss: 0.0381 - acc: 1.0000\n",
            "Epoch 152/300\n",
            "3/3 [==============================] - 0s 25ms/step - loss: 0.0113 - acc: 1.0000\n",
            "Epoch 153/300\n",
            "3/3 [==============================] - 0s 24ms/step - loss: 0.0105 - acc: 1.0000\n",
            "Epoch 154/300\n",
            "3/3 [==============================] - 0s 32ms/step - loss: 0.0126 - acc: 1.0000\n",
            "Epoch 155/300\n",
            "3/3 [==============================] - 0s 28ms/step - loss: 0.0139 - acc: 1.0000\n",
            "Epoch 156/300\n",
            "3/3 [==============================] - 0s 25ms/step - loss: 0.0090 - acc: 1.0000\n",
            "Epoch 157/300\n",
            "3/3 [==============================] - 0s 30ms/step - loss: 0.0162 - acc: 1.0000\n",
            "Epoch 158/300\n",
            "3/3 [==============================] - 0s 32ms/step - loss: 0.0101 - acc: 1.0000\n",
            "Epoch 159/300\n",
            "3/3 [==============================] - 0s 29ms/step - loss: 0.0083 - acc: 1.0000\n",
            "Epoch 160/300\n",
            "3/3 [==============================] - 0s 26ms/step - loss: 0.0314 - acc: 0.9886\n",
            "Epoch 161/300\n",
            "3/3 [==============================] - 0s 24ms/step - loss: 0.1235 - acc: 0.9545\n",
            "Epoch 162/300\n",
            "3/3 [==============================] - 0s 24ms/step - loss: 0.0633 - acc: 0.9886\n",
            "Epoch 163/300\n",
            "3/3 [==============================] - 0s 25ms/step - loss: 0.0656 - acc: 0.9886\n",
            "Epoch 164/300\n",
            "3/3 [==============================] - 0s 30ms/step - loss: 0.1321 - acc: 0.9545\n",
            "Epoch 165/300\n",
            "3/3 [==============================] - 0s 25ms/step - loss: 0.1111 - acc: 0.9659\n",
            "Epoch 166/300\n",
            "3/3 [==============================] - 0s 25ms/step - loss: 0.1354 - acc: 0.9432\n",
            "Epoch 167/300\n",
            "3/3 [==============================] - 0s 29ms/step - loss: 0.1597 - acc: 0.9432\n",
            "Epoch 168/300\n",
            "3/3 [==============================] - 0s 31ms/step - loss: 0.1196 - acc: 0.9545\n",
            "Epoch 169/300\n",
            "3/3 [==============================] - 0s 30ms/step - loss: 0.1350 - acc: 0.9545\n",
            "Epoch 170/300\n",
            "3/3 [==============================] - 0s 35ms/step - loss: 0.0821 - acc: 0.9886\n",
            "Epoch 171/300\n",
            "3/3 [==============================] - 0s 30ms/step - loss: 0.1393 - acc: 0.9773\n",
            "Epoch 172/300\n",
            "3/3 [==============================] - 0s 33ms/step - loss: 0.1373 - acc: 0.9659\n",
            "Epoch 173/300\n",
            "3/3 [==============================] - 0s 30ms/step - loss: 0.1446 - acc: 0.9659\n",
            "Epoch 174/300\n",
            "3/3 [==============================] - 0s 23ms/step - loss: 0.1362 - acc: 0.9545\n",
            "Epoch 175/300\n",
            "3/3 [==============================] - 0s 30ms/step - loss: 0.1562 - acc: 0.9545\n",
            "Epoch 176/300\n",
            "3/3 [==============================] - 0s 25ms/step - loss: 0.2135 - acc: 0.8977\n",
            "Epoch 177/300\n",
            "3/3 [==============================] - 0s 26ms/step - loss: 0.1008 - acc: 0.9545\n",
            "Epoch 178/300\n",
            "3/3 [==============================] - 0s 26ms/step - loss: 0.1019 - acc: 0.9773\n",
            "Epoch 179/300\n",
            "3/3 [==============================] - 0s 32ms/step - loss: 0.0892 - acc: 0.9773\n",
            "Epoch 180/300\n",
            "3/3 [==============================] - 0s 30ms/step - loss: 0.1293 - acc: 0.9545\n",
            "Epoch 181/300\n",
            "3/3 [==============================] - 0s 37ms/step - loss: 0.0763 - acc: 0.9659\n",
            "Epoch 182/300\n",
            "3/3 [==============================] - 0s 30ms/step - loss: 0.0865 - acc: 0.9773\n",
            "Epoch 183/300\n",
            "3/3 [==============================] - 0s 31ms/step - loss: 0.1431 - acc: 0.9773\n",
            "Epoch 184/300\n",
            "3/3 [==============================] - 0s 28ms/step - loss: 0.0727 - acc: 0.9773\n",
            "Epoch 185/300\n",
            "3/3 [==============================] - 0s 23ms/step - loss: 0.0550 - acc: 0.9886\n",
            "Epoch 186/300\n",
            "3/3 [==============================] - 0s 24ms/step - loss: 0.0272 - acc: 1.0000\n",
            "Epoch 187/300\n",
            "3/3 [==============================] - 0s 29ms/step - loss: 0.0181 - acc: 1.0000\n",
            "Epoch 188/300\n",
            "3/3 [==============================] - 0s 29ms/step - loss: 0.0164 - acc: 1.0000\n",
            "Epoch 189/300\n",
            "3/3 [==============================] - 0s 25ms/step - loss: 0.0174 - acc: 1.0000\n",
            "Epoch 190/300\n",
            "3/3 [==============================] - 0s 24ms/step - loss: 0.0243 - acc: 1.0000\n",
            "Epoch 191/300\n",
            "3/3 [==============================] - 0s 23ms/step - loss: 0.0301 - acc: 1.0000\n",
            "Epoch 192/300\n",
            "3/3 [==============================] - 0s 23ms/step - loss: 0.0144 - acc: 1.0000\n",
            "Epoch 193/300\n",
            "3/3 [==============================] - 0s 28ms/step - loss: 0.0120 - acc: 1.0000\n",
            "Epoch 194/300\n",
            "3/3 [==============================] - 0s 24ms/step - loss: 0.0193 - acc: 1.0000\n",
            "Epoch 195/300\n",
            "3/3 [==============================] - 0s 26ms/step - loss: 0.0127 - acc: 1.0000\n",
            "Epoch 196/300\n",
            "3/3 [==============================] - 0s 25ms/step - loss: 0.0086 - acc: 1.0000\n",
            "Epoch 197/300\n",
            "3/3 [==============================] - 0s 26ms/step - loss: 0.0118 - acc: 1.0000\n",
            "Epoch 198/300\n",
            "3/3 [==============================] - 0s 26ms/step - loss: 0.0130 - acc: 1.0000\n",
            "Epoch 199/300\n",
            "3/3 [==============================] - 0s 30ms/step - loss: 0.0094 - acc: 1.0000\n",
            "Epoch 200/300\n",
            "3/3 [==============================] - 0s 25ms/step - loss: 0.0069 - acc: 1.0000\n",
            "Epoch 201/300\n",
            "3/3 [==============================] - 0s 28ms/step - loss: 0.0045 - acc: 1.0000\n",
            "Epoch 202/300\n",
            "3/3 [==============================] - 0s 24ms/step - loss: 0.0067 - acc: 1.0000\n",
            "Epoch 203/300\n",
            "3/3 [==============================] - 0s 25ms/step - loss: 0.0135 - acc: 1.0000\n",
            "Epoch 204/300\n",
            "3/3 [==============================] - 0s 24ms/step - loss: 0.0119 - acc: 1.0000\n",
            "Epoch 205/300\n",
            "3/3 [==============================] - 0s 32ms/step - loss: 0.0043 - acc: 1.0000\n",
            "Epoch 206/300\n",
            "3/3 [==============================] - 0s 24ms/step - loss: 0.0083 - acc: 1.0000\n",
            "Epoch 207/300\n",
            "3/3 [==============================] - 0s 24ms/step - loss: 0.0056 - acc: 1.0000\n",
            "Epoch 208/300\n",
            "3/3 [==============================] - 0s 28ms/step - loss: 0.0032 - acc: 1.0000\n",
            "Epoch 209/300\n",
            "3/3 [==============================] - 0s 28ms/step - loss: 0.0084 - acc: 1.0000\n",
            "Epoch 210/300\n",
            "3/3 [==============================] - 0s 38ms/step - loss: 0.0133 - acc: 1.0000\n",
            "Epoch 211/300\n",
            "3/3 [==============================] - 0s 42ms/step - loss: 0.0162 - acc: 1.0000\n",
            "Epoch 212/300\n",
            "3/3 [==============================] - 0s 43ms/step - loss: 0.0184 - acc: 1.0000\n",
            "Epoch 213/300\n",
            "3/3 [==============================] - 0s 35ms/step - loss: 0.0074 - acc: 1.0000\n",
            "Epoch 214/300\n",
            "3/3 [==============================] - 0s 49ms/step - loss: 0.0054 - acc: 1.0000\n",
            "Epoch 215/300\n",
            "3/3 [==============================] - 0s 46ms/step - loss: 0.0099 - acc: 1.0000\n",
            "Epoch 216/300\n",
            "3/3 [==============================] - 0s 44ms/step - loss: 0.0127 - acc: 1.0000\n",
            "Epoch 217/300\n",
            "3/3 [==============================] - 0s 39ms/step - loss: 0.0056 - acc: 1.0000\n",
            "Epoch 218/300\n",
            "3/3 [==============================] - 0s 42ms/step - loss: 0.0143 - acc: 1.0000\n",
            "Epoch 219/300\n",
            "3/3 [==============================] - 0s 42ms/step - loss: 0.0108 - acc: 1.0000\n",
            "Epoch 220/300\n",
            "3/3 [==============================] - 0s 45ms/step - loss: 0.0252 - acc: 0.9886\n",
            "Epoch 221/300\n",
            "3/3 [==============================] - 0s 37ms/step - loss: 0.0042 - acc: 1.0000\n",
            "Epoch 222/300\n",
            "3/3 [==============================] - 0s 44ms/step - loss: 0.0142 - acc: 1.0000\n",
            "Epoch 223/300\n",
            "3/3 [==============================] - 0s 45ms/step - loss: 0.0196 - acc: 1.0000\n",
            "Epoch 224/300\n",
            "3/3 [==============================] - 0s 39ms/step - loss: 0.0121 - acc: 1.0000\n",
            "Epoch 225/300\n",
            "3/3 [==============================] - 0s 39ms/step - loss: 0.0370 - acc: 0.9886\n",
            "Epoch 226/300\n",
            "3/3 [==============================] - 0s 44ms/step - loss: 0.0478 - acc: 0.9886\n",
            "Epoch 227/300\n",
            "3/3 [==============================] - 0s 39ms/step - loss: 0.2863 - acc: 0.8864\n",
            "Epoch 228/300\n",
            "3/3 [==============================] - 0s 25ms/step - loss: 0.0714 - acc: 0.9773\n",
            "Epoch 229/300\n",
            "3/3 [==============================] - 0s 32ms/step - loss: 0.1716 - acc: 0.9205\n",
            "Epoch 230/300\n",
            "3/3 [==============================] - 0s 29ms/step - loss: 0.2088 - acc: 0.9318\n",
            "Epoch 231/300\n",
            "3/3 [==============================] - 0s 27ms/step - loss: 0.0939 - acc: 0.9773\n",
            "Epoch 232/300\n",
            "3/3 [==============================] - 0s 28ms/step - loss: 0.1962 - acc: 0.9318\n",
            "Epoch 233/300\n",
            "3/3 [==============================] - 0s 28ms/step - loss: 0.1400 - acc: 0.9545\n",
            "Epoch 234/300\n",
            "3/3 [==============================] - 0s 28ms/step - loss: 0.1009 - acc: 0.9659\n",
            "Epoch 235/300\n",
            "3/3 [==============================] - 0s 28ms/step - loss: 0.1239 - acc: 0.9545\n",
            "Epoch 236/300\n",
            "3/3 [==============================] - 0s 32ms/step - loss: 0.0546 - acc: 0.9773\n",
            "Epoch 237/300\n",
            "3/3 [==============================] - 0s 30ms/step - loss: 0.0750 - acc: 0.9773\n",
            "Epoch 238/300\n",
            "3/3 [==============================] - 0s 25ms/step - loss: 0.0491 - acc: 0.9773\n",
            "Epoch 239/300\n",
            "3/3 [==============================] - 0s 29ms/step - loss: 0.0742 - acc: 0.9886\n",
            "Epoch 240/300\n",
            "3/3 [==============================] - 0s 29ms/step - loss: 0.0440 - acc: 1.0000\n",
            "Epoch 241/300\n",
            "3/3 [==============================] - 0s 29ms/step - loss: 0.0368 - acc: 0.9886\n",
            "Epoch 242/300\n",
            "3/3 [==============================] - 0s 25ms/step - loss: 0.0352 - acc: 0.9886\n",
            "Epoch 243/300\n",
            "3/3 [==============================] - 0s 36ms/step - loss: 0.0535 - acc: 0.9773\n",
            "Epoch 244/300\n",
            "3/3 [==============================] - 0s 25ms/step - loss: 0.0395 - acc: 1.0000\n",
            "Epoch 245/300\n",
            "3/3 [==============================] - 0s 25ms/step - loss: 0.0176 - acc: 1.0000\n",
            "Epoch 246/300\n",
            "3/3 [==============================] - 0s 25ms/step - loss: 0.0110 - acc: 1.0000\n",
            "Epoch 247/300\n",
            "3/3 [==============================] - 0s 25ms/step - loss: 0.0345 - acc: 0.9886\n",
            "Epoch 248/300\n",
            "3/3 [==============================] - 0s 25ms/step - loss: 0.0198 - acc: 1.0000\n",
            "Epoch 249/300\n",
            "3/3 [==============================] - 0s 25ms/step - loss: 0.0118 - acc: 1.0000\n",
            "Epoch 250/300\n",
            "3/3 [==============================] - 0s 25ms/step - loss: 0.0239 - acc: 0.9886\n",
            "Epoch 251/300\n",
            "3/3 [==============================] - 0s 31ms/step - loss: 0.0158 - acc: 1.0000\n",
            "Epoch 252/300\n",
            "3/3 [==============================] - 0s 23ms/step - loss: 0.0090 - acc: 1.0000\n",
            "Epoch 253/300\n",
            "3/3 [==============================] - 0s 29ms/step - loss: 0.0060 - acc: 1.0000\n",
            "Epoch 254/300\n",
            "3/3 [==============================] - 0s 25ms/step - loss: 0.0059 - acc: 1.0000\n",
            "Epoch 255/300\n",
            "3/3 [==============================] - 0s 31ms/step - loss: 0.0094 - acc: 1.0000\n",
            "Epoch 256/300\n",
            "3/3 [==============================] - 0s 23ms/step - loss: 0.0071 - acc: 1.0000\n",
            "Epoch 257/300\n",
            "3/3 [==============================] - 0s 24ms/step - loss: 0.0071 - acc: 1.0000\n",
            "Epoch 258/300\n",
            "3/3 [==============================] - 0s 24ms/step - loss: 0.0036 - acc: 1.0000\n",
            "Epoch 259/300\n",
            "3/3 [==============================] - 0s 28ms/step - loss: 0.0042 - acc: 1.0000\n",
            "Epoch 260/300\n",
            "3/3 [==============================] - 0s 30ms/step - loss: 0.0059 - acc: 1.0000\n",
            "Epoch 261/300\n",
            "3/3 [==============================] - 0s 29ms/step - loss: 0.0050 - acc: 1.0000\n",
            "Epoch 262/300\n",
            "3/3 [==============================] - 0s 29ms/step - loss: 0.0051 - acc: 1.0000\n",
            "Epoch 263/300\n",
            "3/3 [==============================] - 0s 31ms/step - loss: 0.0101 - acc: 1.0000\n",
            "Epoch 264/300\n",
            "3/3 [==============================] - 0s 28ms/step - loss: 0.0110 - acc: 1.0000\n",
            "Epoch 265/300\n",
            "3/3 [==============================] - 0s 26ms/step - loss: 0.0053 - acc: 1.0000\n",
            "Epoch 266/300\n",
            "3/3 [==============================] - 0s 29ms/step - loss: 0.0087 - acc: 1.0000\n",
            "Epoch 267/300\n",
            "3/3 [==============================] - 0s 23ms/step - loss: 0.0077 - acc: 1.0000\n",
            "Epoch 268/300\n",
            "3/3 [==============================] - 0s 24ms/step - loss: 0.0103 - acc: 1.0000\n",
            "Epoch 269/300\n",
            "3/3 [==============================] - 0s 24ms/step - loss: 0.0023 - acc: 1.0000\n",
            "Epoch 270/300\n",
            "3/3 [==============================] - 0s 25ms/step - loss: 0.0057 - acc: 1.0000\n",
            "Epoch 271/300\n",
            "3/3 [==============================] - 0s 30ms/step - loss: 0.0071 - acc: 1.0000\n",
            "Epoch 272/300\n",
            "3/3 [==============================] - 0s 24ms/step - loss: 0.0032 - acc: 1.0000\n",
            "Epoch 273/300\n",
            "3/3 [==============================] - 0s 25ms/step - loss: 0.0028 - acc: 1.0000\n",
            "Epoch 274/300\n",
            "3/3 [==============================] - 0s 25ms/step - loss: 0.0033 - acc: 1.0000\n",
            "Epoch 275/300\n",
            "3/3 [==============================] - 0s 24ms/step - loss: 0.0056 - acc: 1.0000\n",
            "Epoch 276/300\n",
            "3/3 [==============================] - 0s 29ms/step - loss: 0.0029 - acc: 1.0000\n",
            "Epoch 277/300\n",
            "3/3 [==============================] - 0s 25ms/step - loss: 0.0072 - acc: 1.0000\n",
            "Epoch 278/300\n",
            "3/3 [==============================] - 0s 24ms/step - loss: 0.0027 - acc: 1.0000\n",
            "Epoch 279/300\n",
            "3/3 [==============================] - 0s 28ms/step - loss: 0.0074 - acc: 1.0000\n",
            "Epoch 280/300\n",
            "3/3 [==============================] - 0s 25ms/step - loss: 0.0018 - acc: 1.0000\n",
            "Epoch 281/300\n",
            "3/3 [==============================] - 0s 25ms/step - loss: 0.0030 - acc: 1.0000\n",
            "Epoch 282/300\n",
            "3/3 [==============================] - 0s 31ms/step - loss: 0.0019 - acc: 1.0000\n",
            "Epoch 283/300\n",
            "3/3 [==============================] - 0s 28ms/step - loss: 0.0049 - acc: 1.0000\n",
            "Epoch 284/300\n",
            "3/3 [==============================] - 0s 31ms/step - loss: 0.0112 - acc: 1.0000\n",
            "Epoch 285/300\n",
            "3/3 [==============================] - 0s 32ms/step - loss: 0.0019 - acc: 1.0000\n",
            "Epoch 286/300\n",
            "3/3 [==============================] - 0s 28ms/step - loss: 0.0037 - acc: 1.0000\n",
            "Epoch 287/300\n",
            "3/3 [==============================] - 0s 29ms/step - loss: 0.0076 - acc: 1.0000\n",
            "Epoch 288/300\n",
            "3/3 [==============================] - 0s 34ms/step - loss: 0.0030 - acc: 1.0000\n",
            "Epoch 289/300\n",
            "3/3 [==============================] - 0s 35ms/step - loss: 0.0075 - acc: 1.0000\n",
            "Epoch 290/300\n",
            "3/3 [==============================] - 0s 33ms/step - loss: 0.0092 - acc: 1.0000\n",
            "Epoch 291/300\n",
            "3/3 [==============================] - 0s 31ms/step - loss: 0.0103 - acc: 1.0000\n",
            "Epoch 292/300\n",
            "3/3 [==============================] - 0s 31ms/step - loss: 0.0064 - acc: 1.0000\n",
            "Epoch 293/300\n",
            "3/3 [==============================] - 0s 29ms/step - loss: 0.0074 - acc: 1.0000\n",
            "Epoch 294/300\n",
            "3/3 [==============================] - 0s 26ms/step - loss: 0.0027 - acc: 1.0000\n",
            "Epoch 295/300\n",
            "3/3 [==============================] - 0s 29ms/step - loss: 0.0049 - acc: 1.0000\n",
            "Epoch 296/300\n",
            "3/3 [==============================] - 0s 30ms/step - loss: 0.0030 - acc: 1.0000\n",
            "Epoch 297/300\n",
            "3/3 [==============================] - 0s 25ms/step - loss: 0.0048 - acc: 1.0000\n",
            "Epoch 298/300\n",
            "3/3 [==============================] - 0s 34ms/step - loss: 0.0033 - acc: 1.0000\n",
            "Epoch 299/300\n",
            "3/3 [==============================] - 0s 32ms/step - loss: 0.0032 - acc: 1.0000\n",
            "Epoch 300/300\n",
            "3/3 [==============================] - 0s 35ms/step - loss: 0.0017 - acc: 1.0000\n"
          ]
        },
        {
          "data": {
            "text/plain": [
              "<keras.src.callbacks.History at 0x78e34a1d3a00>"
            ]
          },
          "execution_count": 131,
          "metadata": {},
          "output_type": "execute_result"
        }
      ],
      "source": [
        "model.fit(X_train[:],y_train,epochs=300)"
      ]
    },
    {
      "cell_type": "code",
      "execution_count": null,
      "metadata": {
        "id": "DPIURXoBo-Uy"
      },
      "outputs": [],
      "source": [
        "model.save('nmod.h5')"
      ]
    },
    {
      "cell_type": "code",
      "execution_count": null,
      "metadata": {
        "colab": {
          "base_uri": "https://localhost:8080/"
        },
        "id": "ay-P9ZxlSWId",
        "outputId": "f864647e-ca72-482c-b740-4b3543469b56"
      },
      "outputs": [
        {
          "data": {
            "text/plain": [
              "array([0, 4, 6, 7, 8, 8, 4, 0, 5, 4, 4, 0, 3, 2, 6, 1, 2, 6])"
            ]
          },
          "execution_count": 114,
          "metadata": {},
          "output_type": "execute_result"
        }
      ],
      "source": [
        "y_test"
      ]
    },
    {
      "cell_type": "code",
      "execution_count": null,
      "metadata": {
        "id": "rjNneb5p_3k2"
      },
      "outputs": [],
      "source": []
    }
  ],
  "metadata": {
    "accelerator": "GPU",
    "colab": {
      "provenance": []
    },
    "kernelspec": {
      "display_name": "Python 3.9.6 64-bit",
      "language": "python",
      "name": "python3"
    },
    "language_info": {
      "name": "python",
      "version": "3.9.6"
    },
    "vscode": {
      "interpreter": {
        "hash": "31f2aee4e71d21fbe5cf8b01ff0e069b9275f58929596ceb00d14d90e3e16cd6"
      }
    }
  },
  "nbformat": 4,
  "nbformat_minor": 0
}
